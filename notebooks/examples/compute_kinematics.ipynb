{
  "cells": [
    {
      "cell_type": "markdown",
      "metadata": {},
      "source": [
        "# Compute and visualise kinematics.\n\nCompute displacement, velocity and acceleration, and\nvisualise the results.\n"
      ]
    },
    {
      "cell_type": "markdown",
      "metadata": {},
      "source": [
        "## Imports\n\n"
      ]
    },
    {
      "cell_type": "code",
      "execution_count": null,
      "metadata": {
        "collapsed": false
      },
      "outputs": [],
      "source": [
        "import numpy as np\n\n# For interactive plots: install ipympl with `pip install ipympl` and uncomment\n# the following line in your notebook\n# %matplotlib widget\nfrom matplotlib import pyplot as plt\n\nfrom movement import sample_data"
      ]
    },
    {
      "cell_type": "markdown",
      "metadata": {},
      "source": [
        "## Load sample dataset\nFirst, we load an example dataset. In this case, we select the\n``SLEAP_three-mice_Aeon_proofread`` sample data.\n\n"
      ]
    },
    {
      "cell_type": "code",
      "execution_count": null,
      "metadata": {
        "collapsed": false
      },
      "outputs": [],
      "source": [
        "ds = sample_data.fetch_dataset(\n    \"SLEAP_three-mice_Aeon_proofread.analysis.h5\",\n)\n\nprint(ds)"
      ]
    },
    {
      "cell_type": "markdown",
      "metadata": {},
      "source": [
        "We can see in the printed description of the dataset ``ds`` that\nthe data was acquired at 50 fps, and the time axis is expressed in seconds.\nIt includes data for three individuals(``AEON3B_NTP``, ``AEON3B_TP1``,\nand ``AEON3B_TP2``), and only one keypoint called ``centroid`` was tracked\nin ``x`` and ``y`` dimensions.\n\n"
      ]
    },
    {
      "cell_type": "markdown",
      "metadata": {},
      "source": [
        "The loaded dataset ``ds`` contains two data arrays:\n``position`` and ``confidence``.\nTo compute displacement, velocity and acceleration, we will need the\n``position`` one:\n\n"
      ]
    },
    {
      "cell_type": "code",
      "execution_count": null,
      "metadata": {
        "collapsed": false
      },
      "outputs": [],
      "source": [
        "position = ds.position"
      ]
    },
    {
      "cell_type": "markdown",
      "metadata": {},
      "source": [
        "## Visualise the data\nFirst, let's visualise the trajectories of the mice in the XY plane,\ncolouring them by individual.\n\n"
      ]
    },
    {
      "cell_type": "code",
      "execution_count": null,
      "metadata": {
        "collapsed": false
      },
      "outputs": [],
      "source": [
        "fig, ax = plt.subplots(1, 1)\nfor mouse_name, col in zip(\n    position.individuals.values, [\"r\", \"g\", \"b\"], strict=False\n):\n    ax.plot(\n        position.sel(individuals=mouse_name, space=\"x\"),\n        position.sel(individuals=mouse_name, space=\"y\"),\n        linestyle=\"-\",\n        marker=\".\",\n        markersize=2,\n        linewidth=0.5,\n        c=col,\n        label=mouse_name,\n    )\n    ax.invert_yaxis()\n    ax.set_xlabel(\"x (pixels)\")\n    ax.set_ylabel(\"y (pixels)\")\n    ax.axis(\"equal\")\n    ax.legend()"
      ]
    },
    {
      "cell_type": "markdown",
      "metadata": {},
      "source": [
        "We can see that the trajectories of the three mice are close to a circular\narc. Notice that the x and y axes are set to equal scales, and that the\norigin of the coordinate system is at the top left of the image. This\nfollows the convention for SLEAP and most image processing tools.\n\n"
      ]
    },
    {
      "cell_type": "markdown",
      "metadata": {},
      "source": [
        "We can also color the data points based on their timestamps:\n\n"
      ]
    },
    {
      "cell_type": "code",
      "execution_count": null,
      "metadata": {
        "collapsed": false
      },
      "outputs": [],
      "source": [
        "fig, axes = plt.subplots(3, 1, sharey=True)\nfor mouse_name, ax in zip(position.individuals.values, axes, strict=False):\n    sc = ax.scatter(\n        position.sel(individuals=mouse_name, space=\"x\"),\n        position.sel(individuals=mouse_name, space=\"y\"),\n        s=2,\n        c=position.time,\n        cmap=\"viridis\",\n    )\n    ax.invert_yaxis()\n    ax.set_title(mouse_name)\n    ax.set_xlabel(\"x (pixels)\")\n    ax.set_ylabel(\"y (pixels)\")\n    ax.axis(\"equal\")\n    fig.colorbar(sc, ax=ax, label=\"time (s)\")\nfig.tight_layout()"
      ]
    },
    {
      "cell_type": "markdown",
      "metadata": {},
      "source": [
        "These plots show that for this snippet of the data,\ntwo of the mice (``AEON3B_NTP`` and ``AEON3B_TP1``)\nmoved around the circle in clockwise direction, and\nthe third mouse (``AEON3B_TP2``) followed an anti-clockwise direction.\n\n"
      ]
    },
    {
      "cell_type": "markdown",
      "metadata": {},
      "source": [
        "We can also easily plot the components of the position vector against time\nusing ``xarray``'s built-in plotting methods. We use ``squeeze()`` to\nremove the dimension of length 1 from the data (the keypoints dimension).\n\n"
      ]
    },
    {
      "cell_type": "code",
      "execution_count": null,
      "metadata": {
        "collapsed": false
      },
      "outputs": [],
      "source": [
        "position.squeeze().plot.line(x=\"time\", row=\"individuals\", aspect=2, size=2.5)\nplt.gcf().show()"
      ]
    },
    {
      "cell_type": "markdown",
      "metadata": {},
      "source": [
        "If we use ``xarray``'s plotting function, the axes units are automatically\ntaken from the data array. In our case, ``time`` is expressed in seconds,\nand the ``x`` and ``y`` coordinates of the ``position`` are in pixels.\n\n"
      ]
    },
    {
      "cell_type": "markdown",
      "metadata": {},
      "source": [
        "## Compute displacement\nWe can start off by computing the distance travelled by the mice along\ntheir trajectories.\nFor this, we can use the ``compute_displacement`` method of the\n``move`` accessor.\n\n"
      ]
    },
    {
      "cell_type": "code",
      "execution_count": null,
      "metadata": {
        "collapsed": false
      },
      "outputs": [],
      "source": [
        "displacement = ds.move.compute_displacement()"
      ]
    },
    {
      "cell_type": "markdown",
      "metadata": {},
      "source": [
        "This method will return a data array equivalent to the ``position`` one,\nbut holding displacement data along the ``space`` axis, rather than\nposition data.\n\n"
      ]
    },
    {
      "cell_type": "markdown",
      "metadata": {},
      "source": [
        "Notice that we could also compute the displacement (and all the other\nkinematic variables) using the kinematics module:\n\n"
      ]
    },
    {
      "cell_type": "code",
      "execution_count": null,
      "metadata": {
        "collapsed": false
      },
      "outputs": [],
      "source": [
        "import movement.analysis.kinematics as kin\n\ndisplacement_kin = kin.compute_displacement(position)"
      ]
    },
    {
      "cell_type": "markdown",
      "metadata": {},
      "source": [
        "The ``displacement`` data array holds, for a given individual and keypoint\nat timestep ``t``, the vector that goes from its previous position at time\n``t-1`` to its current position at time ``t``.\n\n"
      ]
    },
    {
      "cell_type": "markdown",
      "metadata": {},
      "source": [
        "And what happens at ``t=0``, since there is no previous timestep?\nWe define the displacement vector at time ``t=0`` to be the zero vector.\nThis way the shape of the ``displacement`` data array is the\nsame as the  ``position`` array:\n\n"
      ]
    },
    {
      "cell_type": "code",
      "execution_count": null,
      "metadata": {
        "collapsed": false
      },
      "outputs": [],
      "source": [
        "print(f\"Shape of position: {position.shape}\")\nprint(f\"Shape of displacement: {displacement.shape}\")"
      ]
    },
    {
      "cell_type": "markdown",
      "metadata": {},
      "source": [
        "We can visualise these displacement vectors with a quiver plot. In this case\nwe focus on the mouse ``AEON3B_TP2``:\n\n"
      ]
    },
    {
      "cell_type": "code",
      "execution_count": null,
      "metadata": {
        "collapsed": false
      },
      "outputs": [],
      "source": [
        "mouse_name = \"AEON3B_TP2\"\n\nfig = plt.figure()\nax = fig.add_subplot()\n\n# plot position data\nsc = ax.scatter(\n    position.sel(individuals=mouse_name, space=\"x\"),\n    position.sel(individuals=mouse_name, space=\"y\"),\n    s=15,\n    c=position.time,\n    cmap=\"viridis\",\n)\n\n# plot displacement vectors: at t, vector from t-1 to t\nax.quiver(\n    position.sel(individuals=mouse_name, space=\"x\"),\n    position.sel(individuals=mouse_name, space=\"y\"),\n    displacement.sel(individuals=mouse_name, space=\"x\"),\n    displacement.sel(individuals=mouse_name, space=\"y\"),\n    angles=\"xy\",\n    scale=1,\n    scale_units=\"xy\",\n    headwidth=7,\n    headlength=9,\n    headaxislength=9,\n)\n\nax.axis(\"equal\")\nax.set_xlim(450, 575)\nax.set_ylim(950, 1075)\nax.set_xlabel(\"x (pixels)\")\nax.set_ylabel(\"y (pixels)\")\nax.set_title(f\"Zoomed in trajectory of {mouse_name}\")\nax.invert_yaxis()\nfig.colorbar(sc, ax=ax, label=\"time (s)\")"
      ]
    },
    {
      "cell_type": "markdown",
      "metadata": {},
      "source": [
        "Notice that this figure is not very useful as a visual check:\nwe can see that there are vectors defined for each point in\nthe trajectory, but we have no easy way to verify they are indeed\nthe displacement vectors from ``t-1`` to ``t``.\n\n"
      ]
    },
    {
      "cell_type": "markdown",
      "metadata": {},
      "source": [
        "If instead we plot\nthe opposite of the displacement vector, we will see that at every time\n``t``, the vectors point to the position at ``t-1``.\nRemember that the displacement vector is defined as the vector at\ntime ``t``, that goes from the previous position ``t-1`` to the\ncurrent position at ``t``. Therefore, the opposite vector will point\nfrom the position point at ``t``, to the position point at ``t-1``.\n\n"
      ]
    },
    {
      "cell_type": "markdown",
      "metadata": {},
      "source": [
        "We can easily do this by flipping the sign of the displacement vector in\nthe plot above:\n\n"
      ]
    },
    {
      "cell_type": "code",
      "execution_count": null,
      "metadata": {
        "collapsed": false
      },
      "outputs": [],
      "source": [
        "mouse_name = \"AEON3B_TP2\"\n\nfig = plt.figure()\nax = fig.add_subplot()\n\n# plot position data\nsc = ax.scatter(\n    position.sel(individuals=mouse_name, space=\"x\"),\n    position.sel(individuals=mouse_name, space=\"y\"),\n    s=15,\n    c=position.time,\n    cmap=\"viridis\",\n)\n\n# plot displacement vectors: at t, vector from t-1 to t\nax.quiver(\n    position.sel(individuals=mouse_name, space=\"x\"),\n    position.sel(individuals=mouse_name, space=\"y\"),\n    -displacement.sel(individuals=mouse_name, space=\"x\"),  # flipped sign\n    -displacement.sel(individuals=mouse_name, space=\"y\"),  # flipped sign\n    angles=\"xy\",\n    scale=1,\n    scale_units=\"xy\",\n    headwidth=7,\n    headlength=9,\n    headaxislength=9,\n)\nax.axis(\"equal\")\nax.set_xlim(450, 575)\nax.set_ylim(950, 1075)\nax.set_xlabel(\"x (pixels)\")\nax.set_ylabel(\"y (pixels)\")\nax.set_title(f\"Zoomed in trajectory of {mouse_name}\")\nax.invert_yaxis()\nfig.colorbar(sc, ax=ax, label=\"time (s)\")"
      ]
    },
    {
      "cell_type": "markdown",
      "metadata": {},
      "source": [
        "Now we can visually verify that indeed the displacement vector\nconnects the previous and current positions as expected.\n\n"
      ]
    },
    {
      "cell_type": "markdown",
      "metadata": {},
      "source": [
        "With the displacement data we can compute the distance travelled by the\nmouse along its trajectory.\n\n"
      ]
    },
    {
      "cell_type": "code",
      "execution_count": null,
      "metadata": {
        "collapsed": false
      },
      "outputs": [],
      "source": [
        "# length of each displacement vector\ndisplacement_vectors_lengths = np.linalg.norm(\n    displacement.sel(individuals=mouse_name, space=[\"x\", \"y\"]).squeeze(),\n    axis=1,\n)\n\n# sum of all displacement vectors\ntotal_displacement = np.sum(displacement_vectors_lengths, axis=0)  # in pixels\n\nprint(\n    f\"The mouse {mouse_name}'s trajectory is {total_displacement:.2f} \"\n    \"pixels long\"\n)"
      ]
    },
    {
      "cell_type": "markdown",
      "metadata": {},
      "source": [
        "## Compute velocity\nWe can easily compute the velocity vectors for all individuals in our data\narray:\n\n"
      ]
    },
    {
      "cell_type": "code",
      "execution_count": null,
      "metadata": {
        "collapsed": false
      },
      "outputs": [],
      "source": [
        "velocity = ds.move.compute_velocity()"
      ]
    },
    {
      "cell_type": "markdown",
      "metadata": {},
      "source": [
        "The ``velocity`` method will return a data array equivalent to the\n``position`` one, but holding velocity data along the ``space`` axis, rather\nthan position data. Notice how ``xarray`` nicely deals with the different\nindividuals and spatial dimensions for us! \u2728\n\n"
      ]
    },
    {
      "cell_type": "markdown",
      "metadata": {},
      "source": [
        "We can plot the components of the velocity vector against time\nusing ``xarray``'s built-in plotting methods. We use ``squeeze()`` to\nremove the dimension of length 1 from the data (the keypoints dimension).\n\n"
      ]
    },
    {
      "cell_type": "code",
      "execution_count": null,
      "metadata": {
        "collapsed": false
      },
      "outputs": [],
      "source": [
        "velocity.squeeze().plot.line(x=\"time\", row=\"individuals\", aspect=2, size=2.5)\nplt.gcf().show()"
      ]
    },
    {
      "cell_type": "markdown",
      "metadata": {},
      "source": [
        "The components of the velocity vector seem noisier than the components of\nthe position vector.\nThis is expected, since we are deriving the velocity using differences in\nposition (which is somewhat noisy), over small stepsizes.\nMore specifically, we use numpy's gradient implementation, which\nuses second order central differences.\n\n"
      ]
    },
    {
      "cell_type": "markdown",
      "metadata": {},
      "source": [
        "We can also visualise the speed, as the norm of the velocity vector:\n\n"
      ]
    },
    {
      "cell_type": "code",
      "execution_count": null,
      "metadata": {
        "collapsed": false
      },
      "outputs": [],
      "source": [
        "fig, axes = plt.subplots(3, 1, sharex=True, sharey=True)\nfor mouse_name, ax in zip(velocity.individuals.values, axes, strict=False):\n    # compute the norm of the velocity vector for one mouse\n    speed_one_mouse = np.linalg.norm(\n        velocity.sel(individuals=mouse_name, space=[\"x\", \"y\"]).squeeze(),\n        axis=1,\n    )\n    # plot speed against time\n    ax.plot(speed_one_mouse)\n    ax.set_title(mouse_name)\n    ax.set_xlabel(\"time (s)\")\n    ax.set_ylabel(\"speed (px/s)\")\nfig.tight_layout()"
      ]
    },
    {
      "cell_type": "markdown",
      "metadata": {},
      "source": [
        "To visualise the direction of the velocity vector at each timestep, we can\nuse a quiver plot:\n\n"
      ]
    },
    {
      "cell_type": "code",
      "execution_count": null,
      "metadata": {
        "collapsed": false
      },
      "outputs": [],
      "source": [
        "mouse_name = \"AEON3B_TP2\"\nfig = plt.figure()\nax = fig.add_subplot()\n# plot trajectory (position data)\nsc = ax.scatter(\n    position.sel(individuals=mouse_name, space=\"x\"),\n    position.sel(individuals=mouse_name, space=\"y\"),\n    s=15,\n    c=position.time,\n    cmap=\"viridis\",\n)\n# plot velocity vectors\nax.quiver(\n    position.sel(individuals=mouse_name, space=\"x\"),\n    position.sel(individuals=mouse_name, space=\"y\"),\n    velocity.sel(individuals=mouse_name, space=\"x\"),\n    velocity.sel(individuals=mouse_name, space=\"y\"),\n    angles=\"xy\",\n    scale=2,\n    scale_units=\"xy\",\n    color=\"r\",\n)\nax.axis(\"equal\")\nax.set_xlabel(\"x (pixels)\")\nax.set_ylabel(\"y (pixels)\")\nax.set_title(f\"Velocity quiver plot for {mouse_name}\")\nax.invert_yaxis()\nfig.colorbar(sc, ax=ax, label=\"time (s)\")\nfig.show()"
      ]
    },
    {
      "cell_type": "markdown",
      "metadata": {},
      "source": [
        "Here we scaled the length of vectors to half of their actual value\n(``scale=2``) for easier visualisation.\n\n"
      ]
    },
    {
      "cell_type": "markdown",
      "metadata": {},
      "source": [
        "## Compute acceleration\nWe can compute the acceleration of the data with an equivalent method:\n\n"
      ]
    },
    {
      "cell_type": "code",
      "execution_count": null,
      "metadata": {
        "collapsed": false
      },
      "outputs": [],
      "source": [
        "accel = ds.move.compute_acceleration()"
      ]
    },
    {
      "cell_type": "markdown",
      "metadata": {},
      "source": [
        "and plot of the components of the acceleration vector ``ax``, ``ay`` per\nindividual:\n\n"
      ]
    },
    {
      "cell_type": "code",
      "execution_count": null,
      "metadata": {
        "collapsed": false
      },
      "outputs": [],
      "source": [
        "fig, axes = plt.subplots(3, 1, sharex=True, sharey=True)\nfor mouse_name, ax in zip(accel.individuals.values, axes, strict=False):\n    # plot x-component of acceleration vector\n    ax.plot(\n        accel.sel(individuals=mouse_name, space=[\"x\"]).squeeze(),\n        label=\"ax\",\n    )\n    # plot y-component of acceleration vector\n    ax.plot(\n        accel.sel(individuals=mouse_name, space=[\"y\"]).squeeze(),\n        label=\"ay\",\n    )\n    ax.set_title(mouse_name)\n    ax.set_xlabel(\"time (s)\")\n    ax.set_ylabel(\"speed (px/s**2)\")\n    ax.legend(loc=\"center right\", bbox_to_anchor=(1.07, 1.07))\nfig.tight_layout()"
      ]
    },
    {
      "cell_type": "markdown",
      "metadata": {},
      "source": [
        "The norm of the acceleration vector is the magnitude of the\nacceleration.\nWe can also represent this for each individual.\n\n"
      ]
    },
    {
      "cell_type": "code",
      "execution_count": null,
      "metadata": {
        "collapsed": false
      },
      "outputs": [],
      "source": [
        "fig, axes = plt.subplots(3, 1, sharex=True, sharey=True)\nfor mouse_name, ax in zip(accel.individuals.values, axes, strict=False):\n    # compute norm of the acceleration vector for one mouse\n    accel_one_mouse = np.linalg.norm(\n        accel.sel(individuals=mouse_name, space=[\"x\", \"y\"]).squeeze(),\n        axis=1,\n    )\n\n    # plot acceleration against time\n    ax.plot(accel_one_mouse)\n    ax.set_title(mouse_name)\n    ax.set_xlabel(\"time (s)\")\n    ax.set_ylabel(\"accel (px/s**2)\")\nfig.tight_layout()"
      ]
    }
  ],
  "metadata": {
    "kernelspec": {
      "display_name": "Python 3",
      "language": "python",
      "name": "python3"
    },
    "language_info": {
      "codemirror_mode": {
        "name": "ipython",
        "version": 3
      },
      "file_extension": ".py",
      "mimetype": "text/x-python",
      "name": "python",
      "nbconvert_exporter": "python",
      "pygments_lexer": "ipython3",
      "version": "3.11.9"
    }
  },
  "nbformat": 4,
  "nbformat_minor": 0
}