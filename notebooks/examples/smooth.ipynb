{
  "cells": [
    {
      "cell_type": "markdown",
      "metadata": {},
      "source": [
        "# Smooth pose tracks\n\nSmooth pose tracks using the median and Savitzky-Golay filters.\n"
      ]
    },
    {
      "cell_type": "markdown",
      "metadata": {},
      "source": [
        "## Imports\n\n"
      ]
    },
    {
      "cell_type": "code",
      "execution_count": null,
      "metadata": {
        "collapsed": false
      },
      "outputs": [],
      "source": [
        "from matplotlib import pyplot as plt\nfrom scipy.signal import welch\n\nfrom movement import sample_data\nfrom movement.filtering import (\n    interpolate_over_time,\n    median_filter,\n    savgol_filter,\n)"
      ]
    },
    {
      "cell_type": "markdown",
      "metadata": {},
      "source": [
        "## Load a sample dataset\nLet's load a sample dataset and print it to inspect its contents.\nNote that if you are running this notebook interactively, you can simply\ntype the variable name (here ``ds_wasp``) in a cell to get an interactive\ndisplay of the dataset's contents.\n\n"
      ]
    },
    {
      "cell_type": "code",
      "execution_count": null,
      "metadata": {
        "collapsed": false
      },
      "outputs": [],
      "source": [
        "ds_wasp = sample_data.fetch_dataset(\"DLC_single-wasp.predictions.h5\")\nprint(ds_wasp)"
      ]
    },
    {
      "cell_type": "markdown",
      "metadata": {},
      "source": [
        "We see that the dataset contains a single individual (a wasp) with two\nkeypoints tracked in 2D space. The video was recorded at 40 fps and lasts for\n~27 seconds.\n\n"
      ]
    },
    {
      "cell_type": "markdown",
      "metadata": {},
      "source": [
        "## Define a plotting function\nLet's define a plotting function to help us visualise the effects smoothing\nboth in the time and frequency domains.\nThe function takes as inputs two datasets containing raw and smooth data\nrespectively, and plots the position time series and power spectral density\n(PSD) for a given individual and keypoint. The function also allows you to\nspecify the spatial coordinate (``x`` or ``y``) and a time range to focus on.\n\n"
      ]
    },
    {
      "cell_type": "code",
      "execution_count": null,
      "metadata": {
        "collapsed": false
      },
      "outputs": [],
      "source": [
        "def plot_raw_and_smooth_timeseries_and_psd(\n    ds_raw,\n    ds_smooth,\n    individual=\"individual_0\",\n    keypoint=\"stinger\",\n    space=\"x\",\n    time_range=None,\n):\n    # If no time range is specified, plot the entire time series\n    if time_range is None:\n        time_range = slice(0, ds_raw.time[-1])\n\n    selection = {\n        \"time\": time_range,\n        \"individuals\": individual,\n        \"keypoints\": keypoint,\n        \"space\": space,\n    }\n\n    fig, ax = plt.subplots(2, 1, figsize=(10, 6))\n\n    for ds, color, label in zip(\n        [ds_raw, ds_smooth], [\"k\", \"r\"], [\"raw\", \"smooth\"], strict=False\n    ):\n        # plot position time series\n        pos = ds.position.sel(**selection)\n        ax[0].plot(\n            pos.time,\n            pos,\n            color=color,\n            lw=2,\n            alpha=0.7,\n            label=f\"{label} {space}\",\n        )\n\n        # generate interpolated dataset to avoid NaNs in the PSD calculation\n        ds_interp = interpolate_over_time(ds, max_gap=None, print_report=False)\n        pos_interp = ds_interp.position.sel(**selection)\n        # compute and plot the PSD\n        freq, psd = welch(pos_interp, fs=ds.fps, nperseg=256)\n        ax[1].semilogy(\n            freq,\n            psd,\n            color=color,\n            lw=2,\n            alpha=0.7,\n            label=f\"{label} {space}\",\n        )\n\n    ax[0].set_ylabel(f\"{space} position (px)\")\n    ax[0].set_xlabel(\"Time (s)\")\n    ax[0].set_title(\"Time Domain\")\n    ax[0].legend()\n\n    ax[1].set_ylabel(\"PSD (px$^2$/Hz)\")\n    ax[1].set_xlabel(\"Frequency (Hz)\")\n    ax[1].set_title(\"Frequency Domain\")\n    ax[1].legend()\n\n    plt.tight_layout()\n    fig.show()"
      ]
    },
    {
      "cell_type": "markdown",
      "metadata": {},
      "source": [
        "## Smoothing with a median filter\nHere we use the :py:func:`movement.filtering.median_filter` function to\napply a rolling window median filter to the wasp dataset.\nThe ``window_length`` parameter is defined in seconds (according to the\n``time_unit`` dataset attribute).\n\n"
      ]
    },
    {
      "cell_type": "code",
      "execution_count": null,
      "metadata": {
        "collapsed": false
      },
      "outputs": [],
      "source": [
        "ds_wasp_medfilt = median_filter(ds_wasp, window_length=0.1)"
      ]
    },
    {
      "cell_type": "markdown",
      "metadata": {},
      "source": [
        "We see from the printed report that the dataset has no missing values\nneither before nor after smoothing. Let's visualise the effects of the\nmedian filter in the time and frequency domains.\n\n"
      ]
    },
    {
      "cell_type": "code",
      "execution_count": null,
      "metadata": {
        "collapsed": false
      },
      "outputs": [],
      "source": [
        "plot_raw_and_smooth_timeseries_and_psd(\n    ds_wasp, ds_wasp_medfilt, keypoint=\"stinger\"\n)"
      ]
    },
    {
      "cell_type": "markdown",
      "metadata": {},
      "source": [
        "We see that the median filter has removed the \"spikes\" present around the\n14 second mark in the raw data. However, it has not dealt the big shift\noccurring during the final second. In the frequency domain, we can see that\nthe filter has reduced the power in the high-frequency components, without\naffecting the low frequency components.\n\nThis illustrates what the median filter is good at: removing brief \"spikes\"\n(e.g. a keypoint abruptly jumping to a different location for a frame or two)\nand high-frequency \"jitter\" (often present due to pose estimation\nworking on a per-frame basis).\n\n"
      ]
    },
    {
      "cell_type": "markdown",
      "metadata": {},
      "source": [
        "### Choosing parameters for the median filter\nYou can control the behaviour of :py:func:`movement.filtering.median_filter`\nvia two parameters: ``window_length`` and ``min_periods``.\nTo better understand the effect of these parameters, let's use a\ndataset that contains missing values.\n\n"
      ]
    },
    {
      "cell_type": "code",
      "execution_count": null,
      "metadata": {
        "collapsed": false
      },
      "outputs": [],
      "source": [
        "ds_mouse = sample_data.fetch_dataset(\"SLEAP_single-mouse_EPM.analysis.h5\")\nprint(ds_mouse)"
      ]
    },
    {
      "cell_type": "markdown",
      "metadata": {},
      "source": [
        "The dataset contains a single mouse with six keypoints tracked in\n2D space. The video was recorded at 30 fps and lasts for ~616 seconds. We can\nsee that there are some missing values, indicated as \"nan\" in the\nprinted dataset. Let's apply the median filter to this dataset, with\nthe ``window_length`` set to 0.1 seconds.\n\n"
      ]
    },
    {
      "cell_type": "code",
      "execution_count": null,
      "metadata": {
        "collapsed": false
      },
      "outputs": [],
      "source": [
        "ds_mouse_medfilt = median_filter(ds_mouse, window_length=0.1)"
      ]
    },
    {
      "cell_type": "markdown",
      "metadata": {},
      "source": [
        "The report informs us that the raw data contains NaN values, most of which\noccur at the ``snout`` and ``tail_end`` keypoints. After filtering, the\nnumber of NaNs has increased. This is because the default behaviour of the\nmedian filter is to propagate NaN values, i.e. if any value in the rolling\nwindow is NaN, the output will also be NaN.\n\nTo modify this behaviour, you can set the value of the ``min_periods``\nparameter to an integer value. This parameter determines the minimum number\nof non-NaN values required in the window for the output to be non-NaN.\nFor example, setting ``min_periods=2`` means that two non-NaN values in the\nwindow are sufficient for the median to be calculated. Let's try this.\n\n"
      ]
    },
    {
      "cell_type": "code",
      "execution_count": null,
      "metadata": {
        "collapsed": false
      },
      "outputs": [],
      "source": [
        "ds_mouse_medfilt = median_filter(ds_mouse, window_length=0.1, min_periods=2)"
      ]
    },
    {
      "cell_type": "markdown",
      "metadata": {},
      "source": [
        "We see that this time the number of NaN values has decreased\nacross all keypoints.\nLet's visualise the effects of the median filter in the time and frequency\ndomains. Here we focus on the first 80 seconds for the ``snout`` keypoint.\nYou can adjust the ``keypoint`` and ``time_range`` arguments to explore other\nparts of the data.\n\n"
      ]
    },
    {
      "cell_type": "code",
      "execution_count": null,
      "metadata": {
        "collapsed": false
      },
      "outputs": [],
      "source": [
        "plot_raw_and_smooth_timeseries_and_psd(\n    ds_mouse, ds_mouse_medfilt, keypoint=\"snout\", time_range=slice(0, 80)\n)"
      ]
    },
    {
      "cell_type": "markdown",
      "metadata": {},
      "source": [
        "The smoothing once again reduces the power of high-frequency components, but\nthe resulting time series stays quite close to the raw data.\n\nWhat happens if we increase the ``window_length`` to 2 seconds?\n\n"
      ]
    },
    {
      "cell_type": "code",
      "execution_count": null,
      "metadata": {
        "collapsed": false
      },
      "outputs": [],
      "source": [
        "ds_mouse_medfilt = median_filter(ds_mouse, window_length=2, min_periods=2)"
      ]
    },
    {
      "cell_type": "markdown",
      "metadata": {},
      "source": [
        "The number of NaN values has decreased even further. That's because the\nchance of finding at least 2 valid values within a 2 second window is\nquite high. Let's plot the results for the same keypoint and time range\nas before.\n\n"
      ]
    },
    {
      "cell_type": "code",
      "execution_count": null,
      "metadata": {
        "collapsed": false
      },
      "outputs": [],
      "source": [
        "plot_raw_and_smooth_timeseries_and_psd(\n    ds_mouse, ds_mouse_medfilt, keypoint=\"snout\", time_range=slice(0, 80)\n)"
      ]
    },
    {
      "cell_type": "markdown",
      "metadata": {},
      "source": [
        "We see that the filtered time series is much smoother and it has even\n\"bridged\" over some small gaps. That said, it often deviates from the raw\ndata, in ways that may not be desirable, depending on the application.\nThat means that our choice of ``window_length`` may be too large.\nIn general, you should choose a ``window_length`` that is small enough to\npreserve the original data structure, but large enough to remove\n\"spikes\" and high-frequency noise. Always inspect the results to ensure\nthat the filter is not removing important features.\n\n"
      ]
    },
    {
      "cell_type": "markdown",
      "metadata": {},
      "source": [
        "## Smoothing with a Savitzky-Golay filter\nHere we use the :py:func:`movement.filtering.savgol_filter` function,\nwhich is a wrapper around :py:func:`scipy.signal.savgol_filter`.\nThe Savitzky-Golay filter is a polynomial smoothing filter that can be\napplied to time series data on a rolling window basis. A polynomial of\ndegree ``polyorder`` is fitted to the data in each window of length\n``window_length``, and the value of the polynomial at the center of the\nwindow is used as the output value.\n\nLet's try it on the mouse dataset.\n\n"
      ]
    },
    {
      "cell_type": "code",
      "execution_count": null,
      "metadata": {
        "collapsed": false
      },
      "outputs": [],
      "source": [
        "ds_mouse_savgol = savgol_filter(ds_mouse, window_length=0.2, polyorder=2)"
      ]
    },
    {
      "cell_type": "markdown",
      "metadata": {},
      "source": [
        "We see that the number of NaN values has increased after filtering. This is\nfor the same reason as with the median filter (in its default mode), i.e.\nif there is at least one NaN value in the window, the output will be NaN.\nUnlike the median filter, the Savitzky-Golay filter does not provide a\n``min_periods`` parameter to control this behaviour. Let's visualise the\neffects in the time and frequency domains.\n\n"
      ]
    },
    {
      "cell_type": "code",
      "execution_count": null,
      "metadata": {
        "collapsed": false
      },
      "outputs": [],
      "source": [
        "plot_raw_and_smooth_timeseries_and_psd(\n    ds_mouse, ds_mouse_savgol, keypoint=\"snout\", time_range=slice(0, 80)\n)"
      ]
    },
    {
      "cell_type": "markdown",
      "metadata": {},
      "source": [
        "Once again, the power of high-frequency components has been reduced, but more\nmissing values have been introduced.\n\n"
      ]
    },
    {
      "cell_type": "markdown",
      "metadata": {},
      "source": [
        "Now let's take a look at the wasp dataset.\n\n"
      ]
    },
    {
      "cell_type": "code",
      "execution_count": null,
      "metadata": {
        "collapsed": false
      },
      "outputs": [],
      "source": [
        "ds_wasp_savgol = savgol_filter(ds_wasp, window_length=0.2, polyorder=2)"
      ]
    },
    {
      "cell_type": "code",
      "execution_count": null,
      "metadata": {
        "collapsed": false
      },
      "outputs": [],
      "source": [
        "plot_raw_and_smooth_timeseries_and_psd(\n    ds_wasp,\n    ds_wasp_savgol,\n    keypoint=\"stinger\",\n)"
      ]
    },
    {
      "cell_type": "markdown",
      "metadata": {},
      "source": [
        "This example shows two important limitations of the Savitzky-Golay filter.\nFirst, the filter can introduce artefacts around sharp boundaries. For\nexample, focus on what happens around the sudden drop in position\nduring the final second. Second, the PSD appears to have large periodic\ndrops at certain frequencies. Both of these effects vary with the\nchoice of ``window_length`` and ``polyorder``. You can read more about these\nand other limitations of the Savitzky-Golay filter in\n[this paper](https://pubs.acs.org/doi/10.1021/acsmeasuresciau.1c00054).\n\n"
      ]
    },
    {
      "cell_type": "markdown",
      "metadata": {},
      "source": [
        "## Combining multiple smoothing filters\nYou can also combine multiple smoothing filters by applying them\nsequentially. For example, we can first apply the median filter with a small\n``window_length`` to remove \"spikes\" and then apply the Savitzky-Golay filter\nwith a larger ``window_length`` to further smooth the data.\nBetween the two filters, we can interpolate over small gaps to avoid the\nexcessive proliferation of NaN values. Let's try this on the mouse dataset.\nFirst, let's apply the median filter.\n\n"
      ]
    },
    {
      "cell_type": "code",
      "execution_count": null,
      "metadata": {
        "collapsed": false
      },
      "outputs": [],
      "source": [
        "ds_mouse_medfilt = median_filter(ds_mouse, window_length=0.1, min_periods=2)"
      ]
    },
    {
      "cell_type": "markdown",
      "metadata": {},
      "source": [
        "Next, let's linearly interpolate over gaps smaller than 1 second.\n\n"
      ]
    },
    {
      "cell_type": "code",
      "execution_count": null,
      "metadata": {
        "collapsed": false
      },
      "outputs": [],
      "source": [
        "ds_mouse_medfilt_interp = interpolate_over_time(ds_mouse_medfilt, max_gap=1)"
      ]
    },
    {
      "cell_type": "markdown",
      "metadata": {},
      "source": [
        "Finally, let's apply the Savitzky-Golay filter.\n\n"
      ]
    },
    {
      "cell_type": "code",
      "execution_count": null,
      "metadata": {
        "collapsed": false
      },
      "outputs": [],
      "source": [
        "ds_mouse_medfilt_interp_savgol = savgol_filter(\n    ds_mouse_medfilt_interp, window_length=0.4, polyorder=2\n)"
      ]
    },
    {
      "cell_type": "markdown",
      "metadata": {},
      "source": [
        "A record of all applied operations is stored in the dataset's ``log``\nattribute. Let's inspect it to summarise what we've done.\n\n"
      ]
    },
    {
      "cell_type": "code",
      "execution_count": null,
      "metadata": {
        "collapsed": false
      },
      "outputs": [],
      "source": [
        "for entry in ds_mouse_medfilt_interp_savgol.log:\n    print(entry)"
      ]
    },
    {
      "cell_type": "markdown",
      "metadata": {},
      "source": [
        "Now let's visualise the difference between the raw data and the final\nsmoothed result.\n\n"
      ]
    },
    {
      "cell_type": "code",
      "execution_count": null,
      "metadata": {
        "collapsed": false
      },
      "outputs": [],
      "source": [
        "plot_raw_and_smooth_timeseries_and_psd(\n    ds_mouse,\n    ds_mouse_medfilt_interp_savgol,\n    keypoint=\"snout\",\n    time_range=slice(0, 80),\n)"
      ]
    },
    {
      "cell_type": "markdown",
      "metadata": {},
      "source": [
        "Feel free to play around with the parameters of the applied filters and to\nalso look at other keypoints and time ranges.\n\n"
      ]
    }
  ],
  "metadata": {
    "kernelspec": {
      "display_name": "Python 3",
      "language": "python",
      "name": "python3"
    },
    "language_info": {
      "codemirror_mode": {
        "name": "ipython",
        "version": 3
      },
      "file_extension": ".py",
      "mimetype": "text/x-python",
      "name": "python",
      "nbconvert_exporter": "python",
      "pygments_lexer": "ipython3",
      "version": "3.11.9"
    }
  },
  "nbformat": 4,
  "nbformat_minor": 0
}