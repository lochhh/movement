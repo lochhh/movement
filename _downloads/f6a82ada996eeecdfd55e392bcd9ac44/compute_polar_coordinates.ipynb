{
  "cells": [
    {
      "cell_type": "markdown",
      "metadata": {},
      "source": [
        "# Express 2D vectors in polar coordinates\n\nCompute a vector representing head direction and express it in polar\ncoordinates.\n"
      ]
    },
    {
      "cell_type": "markdown",
      "metadata": {},
      "source": [
        "## Imports\n\n"
      ]
    },
    {
      "cell_type": "code",
      "execution_count": null,
      "metadata": {
        "collapsed": false
      },
      "outputs": [],
      "source": [
        "# For interactive plots: install ipympl with `pip install ipympl` and uncomment\n# the following line in your notebook\n# %matplotlib widget\nimport numpy as np\nfrom matplotlib import pyplot as plt\n\nfrom movement import sample_data\nfrom movement.io import load_poses\nfrom movement.utils.vector import cart2pol, pol2cart"
      ]
    },
    {
      "cell_type": "markdown",
      "metadata": {},
      "source": [
        "## Load sample dataset\nIn this tutorial, we will use a sample dataset with a single individual\n(a mouse) and six keypoints.\n\n"
      ]
    },
    {
      "cell_type": "code",
      "execution_count": null,
      "metadata": {
        "collapsed": false
      },
      "outputs": [],
      "source": [
        "ds_path = sample_data.fetch_dataset_paths(\n    \"SLEAP_single-mouse_EPM.analysis.h5\"\n)[\"poses\"]\nds = load_poses.from_sleap_file(ds_path, fps=None)  # force time_unit = frames\n\nprint(ds)\nprint(\"-----------------------------\")\nprint(f\"Individuals: {ds.individuals.values}\")\nprint(f\"Keypoints: {ds.keypoints.values}\")"
      ]
    },
    {
      "cell_type": "markdown",
      "metadata": {},
      "source": [
        "The loaded dataset ``ds`` contains two data variables:``position`` and\n``confidence``. Both are stored as data arrays. In this tutorial, we will\nuse only ``position``:\n\n"
      ]
    },
    {
      "cell_type": "code",
      "execution_count": null,
      "metadata": {
        "collapsed": false
      },
      "outputs": [],
      "source": [
        "position = ds.position"
      ]
    },
    {
      "cell_type": "markdown",
      "metadata": {},
      "source": [
        "## Compute head vector\nTo demonstrate how polar coordinates can be useful in behavioural analyses,\nwe will compute the head vector of the mouse.\n\nWe define it as the vector from the midpoint between the ears to the snout.\n\n"
      ]
    },
    {
      "cell_type": "code",
      "execution_count": null,
      "metadata": {
        "collapsed": false
      },
      "outputs": [],
      "source": [
        "# compute the midpoint between the ears\nmidpoint_ears = position.sel(keypoints=[\"left_ear\", \"right_ear\"]).mean(\n    dim=\"keypoints\"\n)\n\n# compute the head vector\nhead_vector = position.sel(keypoints=\"snout\") - midpoint_ears\n\n# drop the keypoints dimension\n# (otherwise the `head_vector` data array retains a `snout` keypoint from the\n# operation above)\nhead_vector = head_vector.drop_vars(\"keypoints\")"
      ]
    },
    {
      "cell_type": "markdown",
      "metadata": {},
      "source": [
        "## Visualise the head trajectory\nWe can plot the data to check that our computation of the head vector is\ncorrect.\n\nWe can start by plotting the trajectory of the midpoint between the ears. We\nwill refer to this as the head trajectory.\n\n"
      ]
    },
    {
      "cell_type": "code",
      "execution_count": null,
      "metadata": {
        "collapsed": false
      },
      "outputs": [],
      "source": [
        "fig, ax = plt.subplots(1, 1)\nmouse_name = ds.individuals.values[0]\n\nsc = ax.scatter(\n    midpoint_ears.sel(individuals=mouse_name, space=\"x\"),\n    midpoint_ears.sel(individuals=mouse_name, space=\"y\"),\n    s=15,\n    c=midpoint_ears.time,\n    cmap=\"viridis\",\n    marker=\"o\",\n)\n\nax.axis(\"equal\")\nax.set_xlabel(\"x (pixels)\")\nax.set_ylabel(\"y (pixels)\")\nax.invert_yaxis()\nax.set_title(f\"Head trajectory ({mouse_name})\")\nfig.colorbar(sc, ax=ax, label=f\"time ({ds.attrs['time_unit']})\")\nfig.show()"
      ]
    },
    {
      "cell_type": "markdown",
      "metadata": {},
      "source": [
        "We can see that the majority of the head trajectory data is within a\ncruciform shape. This is because the dataset is of a mouse moving on an\n[Elevated Plus Maze](https://en.wikipedia.org/wiki/Elevated_plus_maze).\nWe can actually verify this is the case by overlaying the head\ntrajectory on the sample frame of the dataset.\n\n"
      ]
    },
    {
      "cell_type": "code",
      "execution_count": null,
      "metadata": {
        "collapsed": false
      },
      "outputs": [],
      "source": [
        "# read sample frame\nframe_path = sample_data.fetch_dataset_paths(\n    \"SLEAP_single-mouse_EPM.analysis.h5\"\n)[\"frame\"]\nim = plt.imread(frame_path)\n\n\n# plot sample frame\nfig, ax = plt.subplots(1, 1)\nax.imshow(im)\n\n# plot head trajectory with semi-transparent markers\nsc = ax.scatter(\n    midpoint_ears.sel(individuals=mouse_name, space=\"x\"),\n    midpoint_ears.sel(individuals=mouse_name, space=\"y\"),\n    s=15,\n    c=midpoint_ears.time,\n    cmap=\"viridis\",\n    marker=\"o\",\n    alpha=0.05,  # transparency\n)\n\nax.axis(\"equal\")\nax.set_xlabel(\"x (pixels)\")\nax.set_ylabel(\"y (pixels)\")\n# No need to invert the y-axis now, since the image is plotted\n# using a pixel coordinate system with origin on the top left of the image\nax.set_title(f\"Head trajectory ({mouse_name})\")\n\nfig.show()"
      ]
    },
    {
      "cell_type": "markdown",
      "metadata": {},
      "source": [
        "The overlaid plot suggests the mouse spends most of its time in the\ncovered arms of the maze.\n\n"
      ]
    },
    {
      "cell_type": "markdown",
      "metadata": {},
      "source": [
        "## Visualise the head vector\nTo visually check our computation of the head vector, it is easier to select\na subset of the data. We can focus on the trajectory of the head when the\nmouse is within a small rectangular area and time window.\n\n"
      ]
    },
    {
      "cell_type": "code",
      "execution_count": null,
      "metadata": {
        "collapsed": false
      },
      "outputs": [],
      "source": [
        "# area of interest\nxmin, ymin = 600, 665  # pixels\nx_delta, y_delta = 125, 100  # pixels\n\n# time window\ntime_window = range(1650, 1671)  # frames"
      ]
    },
    {
      "cell_type": "markdown",
      "metadata": {},
      "source": [
        "For that subset of the data, we now plot the head vector.\n\n"
      ]
    },
    {
      "cell_type": "code",
      "execution_count": null,
      "metadata": {
        "collapsed": false
      },
      "outputs": [],
      "source": [
        "fig, ax = plt.subplots(1, 1)\nmouse_name = ds.individuals.values[0]\n\n# plot midpoint between the ears, and color based on time\nsc = ax.scatter(\n    midpoint_ears.sel(individuals=mouse_name, space=\"x\", time=time_window),\n    midpoint_ears.sel(individuals=mouse_name, space=\"y\", time=time_window),\n    s=50,\n    c=midpoint_ears.time[time_window],\n    cmap=\"viridis\",\n    marker=\"*\",\n)\n\n# plot snout, and color based on time\nsc = ax.scatter(\n    position.sel(\n        individuals=mouse_name, space=\"x\", time=time_window, keypoints=\"snout\"\n    ),\n    position.sel(\n        individuals=mouse_name, space=\"y\", time=time_window, keypoints=\"snout\"\n    ),\n    s=50,\n    c=position.time[time_window],\n    cmap=\"viridis\",\n    marker=\"o\",\n)\n\n# plot the computed head vector\nax.quiver(\n    midpoint_ears.sel(individuals=mouse_name, space=\"x\", time=time_window),\n    midpoint_ears.sel(individuals=mouse_name, space=\"y\", time=time_window),\n    head_vector.sel(individuals=mouse_name, space=\"x\", time=time_window),\n    head_vector.sel(individuals=mouse_name, space=\"y\", time=time_window),\n    angles=\"xy\",\n    scale=1,\n    scale_units=\"xy\",\n    headwidth=7,\n    headlength=9,\n    headaxislength=9,\n    color=\"gray\",\n)\n\nax.axis(\"equal\")\nax.set_xlim(xmin, xmin + x_delta)\nax.set_ylim(ymin, ymin + y_delta)\nax.set_xlabel(\"x (pixels)\")\nax.set_ylabel(\"y (pixels)\")\nax.set_title(f\"Zoomed in head vector ({mouse_name})\")\nax.invert_yaxis()\nfig.colorbar(\n    sc,\n    ax=ax,\n    label=f\"time ({ds.attrs['time_unit']})\",\n    ticks=list(time_window)[0::2],\n)\n\nax.legend(\n    [\n        \"midpoint_ears\",\n        \"snout\",\n        \"head_vector\",\n    ],\n    loc=\"best\",\n)\n\nfig.show()"
      ]
    },
    {
      "cell_type": "markdown",
      "metadata": {},
      "source": [
        "From the plot we can confirm the head vector goes from the midpoint between\nthe ears to the snout, as we defined it.\n\n"
      ]
    },
    {
      "cell_type": "markdown",
      "metadata": {},
      "source": [
        "## Express the head vector in polar coordinates\nA convenient way to inspect the orientation of a vector in 2D is by\nexpressing it in polar coordinates. We can do this with the vector function\n``cart2pol``:\n\n"
      ]
    },
    {
      "cell_type": "code",
      "execution_count": null,
      "metadata": {
        "collapsed": false
      },
      "outputs": [],
      "source": [
        "head_vector_polar = cart2pol(head_vector)\n\nprint(head_vector_polar)"
      ]
    },
    {
      "cell_type": "markdown",
      "metadata": {},
      "source": [
        "Notice how the resulting array has a ``space_pol`` dimension with two\ncoordinates: ``rho`` and ``phi``. These are the polar coordinates of the\nhead vector.\n\nThe coordinate ``rho`` is the norm (i.e., magnitude, length) of the vector.\nIn our case, the distance from the midpoint between the ears to the snout.\nThe coordinate ``phi`` is the orientation of the head vector relative to the\npositive x-axis, and ranges from -``pi`` to ``pi``\n(following the [atan2](https://en.wikipedia.org/wiki/Atan2) convention).\n\nIn our coordinate system, ``phi`` will be\npositive if the shortest path from the positive x-axis to the vector is\nclockwise. Conversely, ``phi`` will be negative if the shortest path from\nthe positive x-axis to the vector is anti-clockwise.\n\n"
      ]
    },
    {
      "cell_type": "markdown",
      "metadata": {},
      "source": [
        "## Histogram of ``rho`` values\nSince ``rho`` is the distance between the ears' midpoint and the snout,\nwe would expect ``rho`` to be approximately constant in this data. We can\ncheck this by plotting a histogram of its values across the whole clip.\n\n"
      ]
    },
    {
      "cell_type": "code",
      "execution_count": null,
      "metadata": {
        "collapsed": false
      },
      "outputs": [],
      "source": [
        "fig, ax = plt.subplots(1, 1)\n\n# plot histogram using xarray's built-in histogram function\nrho_data = head_vector_polar.sel(individuals=mouse_name, space_pol=\"rho\")\nrho_data.plot.hist(bins=50, ax=ax, edgecolor=\"lightgray\", linewidth=0.5)\n\n# add mean\nax.axvline(\n    x=rho_data.mean().values,\n    c=\"b\",\n    linestyle=\"--\",\n)\n\n\n# add median\nax.axvline(\n    x=rho_data.median().values,\n    c=\"r\",\n    linestyle=\"-\",\n)\n\n# add legend\nax.legend(\n    [\n        f\"mean = {np.nanmean(rho_data):.2f} pixels\",\n        f\"median = {np.nanmedian(rho_data):.2f} pixels\",\n    ],\n    loc=\"best\",\n)\nax.set_ylabel(\"count\")\nax.set_xlabel(\"rho (pixels)\")\nfig.show()"
      ]
    },
    {
      "cell_type": "markdown",
      "metadata": {},
      "source": [
        "We can see that there is some spread in the value of ``rho`` in this\ndataset. This may be due to noise in the detection of the head keypoints,\nor due to the mouse tipping its snout upwards during the recording.\n\n"
      ]
    },
    {
      "cell_type": "markdown",
      "metadata": {},
      "source": [
        "## Histogram of ``phi`` values\nWe can also explore which ``phi`` values are most common in the dataset with\na circular histogram.\n\n"
      ]
    },
    {
      "cell_type": "code",
      "execution_count": null,
      "metadata": {
        "collapsed": false
      },
      "outputs": [],
      "source": [
        "# compute number of bins\nbin_width_deg = 5  # width of the bins in degrees\nn_bins = int(360 / bin_width_deg)\n\n# initialise figure with polar projection\nfig = plt.figure()\nax = fig.add_subplot(projection=\"polar\")\n\n# plot histogram using xarray's built-in histogram function\nhead_vector_polar.sel(individuals=mouse_name, space_pol=\"phi\").plot.hist(\n    bins=np.linspace(-np.pi, np.pi, n_bins + 1), ax=ax\n)\n\n# axes settings\nax.set_title(\"phi histogram\")\nax.set_theta_direction(-1)  # theta increases in clockwise direction\nax.set_theta_offset(0)  # set zero at the right\nax.set_xlabel(\"\")  # remove default x-label from xarray's plot.hist()\n\n# set xticks to match the phi values in degrees\nn_xtick_edges = 9\nax.set_xticks(np.linspace(0, 2 * np.pi, n_xtick_edges)[:-1])\nxticks_in_deg = (\n    list(range(0, 180 + 45, 45)) + list(range(0, -180, -45))[-1:0:-1]\n)\nax.set_xticklabels([str(t) + \"\\N{DEGREE SIGN}\" for t in xticks_in_deg])\n\nfig.show()"
      ]
    },
    {
      "cell_type": "markdown",
      "metadata": {},
      "source": [
        "The ``phi`` circular histogram shows that the head vector appears at a\nvariety of orientations in this dataset.\n\n"
      ]
    },
    {
      "cell_type": "markdown",
      "metadata": {},
      "source": [
        "## Polar plot of the head vector within a time window\nWe can also use a polar plot to represent the head vector in time. This way\nwe can visualise the head vector in a coordinate system that translates with\nthe mouse but is always  parallel to the pixel coordinate system.\nAgain, this will be easier to visualise if we focus on a\nsmall time window.\n\n"
      ]
    },
    {
      "cell_type": "code",
      "execution_count": null,
      "metadata": {
        "collapsed": false
      },
      "outputs": [],
      "source": [
        "# select phi values within a time window\nphi = head_vector_polar.sel(\n    individuals=mouse_name,\n    space_pol=\"phi\",\n    time=time_window,\n).values\n\n# plot tip of the head vector within that window, and color based on time\nfig = plt.figure()\nax = fig.add_subplot(projection=\"polar\")\nsc = ax.scatter(\n    phi,\n    np.ones_like(phi),  # assign a constant value rho=1 for visualization\n    c=time_window,\n    cmap=\"viridis\",\n    s=50,\n)\n\n# axes settings\nax.set_theta_direction(-1)  # theta increases in clockwise direction\nax.set_theta_offset(0)  # set zero at the right\ncax = fig.colorbar(\n    sc,\n    ax=ax,\n    label=f\"time ({ds.attrs['time_unit']})\",\n    ticks=list(time_window)[0::2],\n)\n\n# set xticks to match the phi values in degrees\nn_xtick_edges = 9\nax.set_xticks(np.linspace(0, 2 * np.pi, n_xtick_edges)[:-1])\nxticks_in_deg = (\n    list(range(0, 180 + 45, 45)) + list(range(0, -180, -45))[-1:0:-1]\n)\nax.set_xticklabels([str(t) + \"\\N{DEGREE SIGN}\" for t in xticks_in_deg])\n\nfig.show()"
      ]
    },
    {
      "cell_type": "markdown",
      "metadata": {},
      "source": [
        "In the polar plot above, the midpoint between the ears is at the centre of\nthe plot. The tip of the head vector (the ``snout``) is represented with\ncolor markers at a constant ``rho`` value of 1. Markers are colored by frame.\nThe polar plot shows how in this small time window of 20 frames,\nthe head of the mouse turned anti-clockwise.\n\n"
      ]
    },
    {
      "cell_type": "markdown",
      "metadata": {},
      "source": [
        "## Convert polar coordinates to cartesian\n``movement`` also provides a ``pol2cart`` convenience function to transform\na vector in polar coordinates back to cartesian.\n\n"
      ]
    },
    {
      "cell_type": "code",
      "execution_count": null,
      "metadata": {
        "collapsed": false
      },
      "outputs": [],
      "source": [
        "head_vector_cart = pol2cart(head_vector_polar)\n\nprint(head_vector_cart)"
      ]
    },
    {
      "cell_type": "markdown",
      "metadata": {},
      "source": [
        "Note that the resulting `head_vector_cart` array has a ``space`` dimension\nwith two coordinates: ``x`` and ``y``.\n\n"
      ]
    }
  ],
  "metadata": {
    "kernelspec": {
      "display_name": "Python 3",
      "language": "python",
      "name": "python3"
    },
    "language_info": {
      "codemirror_mode": {
        "name": "ipython",
        "version": 3
      },
      "file_extension": ".py",
      "mimetype": "text/x-python",
      "name": "python",
      "nbconvert_exporter": "python",
      "pygments_lexer": "ipython3",
      "version": "3.11.9"
    }
  },
  "nbformat": 4,
  "nbformat_minor": 0
}